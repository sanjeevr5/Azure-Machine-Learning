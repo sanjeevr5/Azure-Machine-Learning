{
 "cells": [
  {
   "cell_type": "markdown",
   "id": "bceed05c-4bef-4084-88d3-3a5eff2ba4ec",
   "metadata": {},
   "source": [
    "# Azure ML 101 - Basics"
   ]
  },
  {
   "cell_type": "code",
   "execution_count": 1,
   "id": "c7f8b5b1-60cd-4ad0-bd68-b38d16b96741",
   "metadata": {},
   "outputs": [],
   "source": [
    "import json\n",
    "\n",
    "with open('./SPA.txt', 'r') as f:\n",
    "    spa = json.load(f)"
   ]
  },
  {
   "cell_type": "code",
   "execution_count": 2,
   "id": "2de68fe8-cc0e-491e-b3fd-dc8518263a5c",
   "metadata": {},
   "outputs": [],
   "source": [
    "subscriptionID = '80ea84e8-afce-4851-928a-9e2219724c69'\n",
    "RG = '1-32730f36-playground-sandbox'\n",
    "ws_name = \"MLOPS101\"\n",
    "location = \"eastus\""
   ]
  },
  {
   "cell_type": "markdown",
   "id": "6b739a41-421e-4a2f-be53-e07e41a74efe",
   "metadata": {},
   "source": [
    "## Creating AML Workspace With SDK v2"
   ]
  },
  {
   "cell_type": "code",
   "execution_count": null,
   "id": "b91d1801-e273-4724-b141-db18f7d615eb",
   "metadata": {},
   "outputs": [],
   "source": [
    "# To connect with AML Using SPA Tenant ID, Application ID and Secret\n",
    "\n",
    "from azure.identity import ClientSecretCredential\n",
    "from azure.ai.ml import MLClient\n",
    "from azure.ai.ml.entities import Workspace\n",
    "\n",
    "\n",
    "#Access using spa['tenantID']\n",
    "\n",
    "SPA = ClientSecretCredential(spa['tenantID'], spa['clientID'], spa['secret'])\n",
    "\n",
    "ml_client = MLClient(SPA, subscriptionID, RG)\n",
    "\n",
    "#We can pass in an already created application directly\n",
    "# Requires storage account, key vault, application insights and ACR\n",
    "app_insights = f'/subscriptions/{subscriptionID}/resourceGroups/{RG}/providers/Microsoft.insights/components/dsadas24994510587'\n",
    "\n",
    "ws = Workspace(\n",
    "    name = ws_name,\n",
    "    location = location,\n",
    "    resource_group = RG,\n",
    "    display_name =\"AML101\",\n",
    "    description = \"Getting used to SDK V2\",\n",
    "    hbi_workspace=  False, #High business impact workspace\n",
    "    tags = {'creator' : 'Sanjeev'},\n",
    "    application_insights=app_insights #Adding existing application insights \n",
    ")\n",
    "\n",
    "ml_client.begin_create_or_update(ws).result() #ml_client.workspaces.begin_create(ws).result()"
   ]
  },
  {
   "cell_type": "markdown",
   "id": "1250416c-f2f1-4cd7-95bd-b86e113861a1",
   "metadata": {},
   "source": [
    "## Connecting To Existing Workspace"
   ]
  },
  {
   "cell_type": "code",
   "execution_count": 3,
   "id": "56463dc9-0d97-4e3d-b19c-3bcd757e4c06",
   "metadata": {},
   "outputs": [
    {
     "name": "stdout",
     "output_type": "stream",
     "text": [
      "MLClient(credential=<azure.identity._credentials.client_secret.ClientSecretCredential object at 0x7fec9132ee60>,\n",
      "         subscription_id=80ea84e8-afce-4851-928a-9e2219724c69,\n",
      "         resource_group_name=1-32730f36-playground-sandbox,\n",
      "         workspace_name=MLOPS101)\n"
     ]
    }
   ],
   "source": [
    "from azure.identity import ClientSecretCredential\n",
    "from azure.ai.ml import MLClient\n",
    "\n",
    "SPA = ClientSecretCredential(spa['tenantID'], spa['clientID'], spa['secret'])\n",
    "ws_name = \"MLOPS101\"\n",
    "\n",
    "ws = MLClient(\n",
    "    SPA,\n",
    "    subscription_id = subscriptionID,\n",
    "    resource_group_name = RG,\n",
    "    workspace_name = ws_name,\n",
    ")\n",
    "\n",
    "print(ws)"
   ]
  },
  {
   "cell_type": "code",
   "execution_count": 4,
   "id": "9f8e9052-0500-41b1-a0ee-8be6eb398b30",
   "metadata": {},
   "outputs": [
    {
     "data": {
      "text/plain": [
       "['R',\n",
       " 'T',\n",
       " '__class__',\n",
       " '__delattr__',\n",
       " '__dict__',\n",
       " '__dir__',\n",
       " '__doc__',\n",
       " '__eq__',\n",
       " '__format__',\n",
       " '__ge__',\n",
       " '__getattribute__',\n",
       " '__gt__',\n",
       " '__hash__',\n",
       " '__init__',\n",
       " '__init_subclass__',\n",
       " '__le__',\n",
       " '__lt__',\n",
       " '__module__',\n",
       " '__ne__',\n",
       " '__new__',\n",
       " '__reduce__',\n",
       " '__reduce_ex__',\n",
       " '__repr__',\n",
       " '__setattr__',\n",
       " '__sizeof__',\n",
       " '__str__',\n",
       " '__subclasshook__',\n",
       " '__weakref__',\n",
       " '_base_url',\n",
       " '_batch_deployments',\n",
       " '_batch_endpoints',\n",
       " '_cloud',\n",
       " '_code',\n",
       " '_components',\n",
       " '_compute',\n",
       " '_credential',\n",
       " '_data',\n",
       " '_datastores',\n",
       " '_environments',\n",
       " '_get_new_client',\n",
       " '_get_workspace_info',\n",
       " '_jobs',\n",
       " '_kwargs',\n",
       " '_local_deployment_helper',\n",
       " '_local_endpoint_helper',\n",
       " '_ml_client_cli',\n",
       " '_models',\n",
       " '_online_deployments',\n",
       " '_online_endpoints',\n",
       " '_operation_config',\n",
       " '_operation_container',\n",
       " '_operation_scope',\n",
       " '_registries',\n",
       " '_requests_pipeline',\n",
       " '_rp_service_client',\n",
       " '_rp_service_client_2022_01_01_preview',\n",
       " '_schedules',\n",
       " '_service_client_02_2022_preview',\n",
       " '_service_client_02_2023_preview',\n",
       " '_service_client_05_2022',\n",
       " '_service_client_09_2020_dataplanepreview',\n",
       " '_service_client_10_2022',\n",
       " '_service_client_10_2022_preview',\n",
       " '_service_client_12_2022_preview',\n",
       " '_workspace_connections',\n",
       " '_workspace_outbound_rules',\n",
       " '_workspaces',\n",
       " 'batch_deployments',\n",
       " 'batch_endpoints',\n",
       " 'begin_create_or_update',\n",
       " 'components',\n",
       " 'compute',\n",
       " 'connections',\n",
       " 'create_or_update',\n",
       " 'data',\n",
       " 'datastores',\n",
       " 'environments',\n",
       " 'from_config',\n",
       " 'jobs',\n",
       " 'models',\n",
       " 'online_deployments',\n",
       " 'online_endpoints',\n",
       " 'registries',\n",
       " 'resource_group_name',\n",
       " 'schedules',\n",
       " 'subscription_id',\n",
       " 'workspace_name',\n",
       " 'workspaces']"
      ]
     },
     "execution_count": 4,
     "metadata": {},
     "output_type": "execute_result"
    }
   ],
   "source": [
    "dir(ws)"
   ]
  },
  {
   "cell_type": "markdown",
   "id": "0614ee02-de3b-4838-9c68-f5b581d2da6c",
   "metadata": {},
   "source": [
    "## Connecting to WS inside AML"
   ]
  },
  {
   "cell_type": "code",
   "execution_count": 5,
   "id": "d7c1bc5c-16cf-46da-8c6d-2016c2ee19fd",
   "metadata": {},
   "outputs": [
    {
     "name": "stdout",
     "output_type": "stream",
     "text": [
      "MLClient(credential=<azure.identity._credentials.default.DefaultAzureCredential object at 0x7fec9132f580>,\n",
      "         subscription_id=80ea84e8-afce-4851-928a-9e2219724c69,\n",
      "         resource_group_name=1-32730f36-playground-sandbox,\n",
      "         workspace_name=MLOPS101)\n"
     ]
    }
   ],
   "source": [
    "from azure.identity import DefaultAzureCredential\n",
    "\n",
    "ws = MLClient(\n",
    "    DefaultAzureCredential(),\n",
    "    subscription_id = subscriptionID,\n",
    "    resource_group_name = RG,\n",
    "    workspace_name= ws_name,\n",
    ")\n",
    "print(ws)"
   ]
  },
  {
   "cell_type": "code",
   "execution_count": 6,
   "id": "5a9bee6c-b5e4-4c1e-ace6-fe664e1ba776",
   "metadata": {},
   "outputs": [
    {
     "data": {
      "text/plain": [
       "'80ea84e8-afce-4851-928a-9e2219724c69'"
      ]
     },
     "execution_count": 6,
     "metadata": {},
     "output_type": "execute_result"
    }
   ],
   "source": [
    "ws.subscription_id"
   ]
  },
  {
   "cell_type": "code",
   "execution_count": 7,
   "id": "32b6c2bb-8c1b-4ab8-bf50-663bb1faeb21",
   "metadata": {},
   "outputs": [
    {
     "data": {
      "text/plain": [
       "'MLOPS101'"
      ]
     },
     "execution_count": 7,
     "metadata": {},
     "output_type": "execute_result"
    }
   ],
   "source": [
    "ws.workspace_name"
   ]
  }
 ],
 "metadata": {
  "kernelspec": {
   "display_name": "Python 3.10 - SDK v2",
   "language": "python",
   "name": "python310-sdkv2"
  },
  "language_info": {
   "codemirror_mode": {
    "name": "ipython",
    "version": 3
   },
   "file_extension": ".py",
   "mimetype": "text/x-python",
   "name": "python",
   "nbconvert_exporter": "python",
   "pygments_lexer": "ipython3",
   "version": "3.10.10"
  }
 },
 "nbformat": 4,
 "nbformat_minor": 5
}
